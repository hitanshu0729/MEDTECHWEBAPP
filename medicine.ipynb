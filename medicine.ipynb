{
 "cells": [
  {
   "cell_type": "code",
   "execution_count": 2,
   "id": "e04c0084",
   "metadata": {},
   "outputs": [],
   "source": [
    "import pandas as pd\n",
    "import numpy as np"
   ]
  },
  {
   "cell_type": "code",
   "execution_count": 23,
   "id": "185f230d",
   "metadata": {},
   "outputs": [],
   "source": [
    "disease = ['Fungal infection' ,'Allergy', 'GERD' ,'Chronic cholestasis' ,'Drug Reaction',\n",
    " 'Peptic ulcer diseae', 'AIDS' ,'Diabetes ', 'Gastroenteritis',\n",
    " 'Bronchial Asthma', 'Hypertension ', 'Migraine', 'Cervical spondylosis',\n",
    " 'Paralysis (brain hemorrhage)' ,'Jaundice' ,'Malaria', 'Chicken pox',\n",
    " 'Dengue', 'Typhoid', 'hepatitis A', 'Hepatitis B', 'Hepatitis C',\n",
    " 'Hepatitis D', 'Hepatitis E', 'Alcoholic hepatitis' ,'Tuberculosis',\n",
    " 'Common Cold', 'Pneumonia', 'Dimorphic hemmorhoids(piles)', 'Heart attack',\n",
    " 'Varicose veins', 'Hypothyroidism', 'Hyperthyroidism' ,'Hypoglycemia',\n",
    " 'Osteoarthristis', 'Arthritis', '(vertigo) Paroymsal  Positional Vertigo',\n",
    " 'Acne' ,'Urinary tract infection', 'Psoriasis' ,'Impetigo']"
   ]
  },
  {
   "cell_type": "code",
   "execution_count": 24,
   "id": "b8c220f3",
   "metadata": {},
   "outputs": [],
   "source": [
    "medicine = {}"
   ]
  },
  {
   "cell_type": "code",
   "execution_count": 25,
   "id": "b01387de",
   "metadata": {},
   "outputs": [],
   "source": [
    "for i in disease:\n",
    "    medicine[i]=[]"
   ]
  },
  {
   "cell_type": "code",
   "execution_count": 29,
   "id": "5876efd6",
   "metadata": {},
   "outputs": [
    {
     "name": "stdout",
     "output_type": "stream",
     "text": [
      "Top medicines for Fungal infection: ['Naproxen', 'Mekinist', 'NP Thyroid 120']\n",
      "Top medicines for Allergy: ['Allergy Eye Relief', 'Brompheniramine Maleate, Pseudoephedrine Hydrochloride and Dextromethorphan Hydrobromide']\n",
      "Top medicines for GERD: ['Famotidine', 'OMEPRAZOLE', 'Esomeprazole Magnesium']\n",
      "Top medicines for Chronic cholestasis: ['Glimepiride', 'NP Thyroid 120', 'ENTRESTO']\n",
      "Top medicines for Drug Reaction: ['Naproxen', 'Moisturizing Antibacterial', 'Quick Action']\n",
      "Top medicines for Peptic ulcer disease: ['Naproxen', 'Mekinist']\n",
      "Top medicines for AIDS: ['Anticavity Rinse', 'Dronabinol']\n",
      "Top medicines for Diabetes : ['Glimepiride']\n",
      "Top medicines for Gastroenteritis: ['Trimethobenzamide Hydrochloride']\n",
      "Top medicines for Bronchial Asthma: ['Naproxen', 'Tussin CF Non Drowsy Multi Symptom']\n",
      "Top medicines for Hypertension : ['Enalapril Maleate']\n",
      "Top medicines for Migraine: ['Divalproex Sodium', 'MAXALT', 'topiramate', 'Sumatriptan']\n",
      "Top medicines for Cervical spondylosis: ['Metronidazole']\n",
      "Top medicines for Paralysis (brain hemorrhage): ['Naproxen', 'Mekinist', 'Glimepiride']\n",
      "Top medicines for Jaundice: ['Cefazolin', 'PHYTONADIONE PHYTONADIONE']\n",
      "Top medicines for Malaria: ['Hydroxychloroquine Sulfate', 'doxycycline']\n",
      "Top medicines for Chicken pox: ['Fludrocortisone Acetate', 'Low Dose Aspirin Enteric Safety-Coated']\n",
      "Failed to retrieve information for Dengue.\n",
      "Top medicines for Typhoid: ['Ciprofloxacin']\n",
      "Top medicines for hepatitis A: ['SILICEA', 'Naproxen']\n",
      "Top medicines for Hepatitis B: ['Naproxen', 'Mekinist', 'Methocarbamol']\n",
      "Top medicines for Hepatitis C: ['Naproxen', 'Moisturizing Antibacterial', 'Mekinist']\n",
      "Top medicines for Hepatitis D: ['Mekinist', 'Glimepiride', 'Pain Reliever Extra Strength']\n",
      "Top medicines for Hepatitis E: ['Naproxen', 'Mekinist']\n",
      "Top medicines for Alcoholic hepatitis: ['Naproxen', 'Glimepiride', 'NP Thyroid 120']\n",
      "Failed to retrieve information for Tuberculosis.\n",
      "Top medicines for Common Cold: ['ChloraPrep One-Step']\n",
      "Top medicines for Pneumonia: ['Azithromycin']\n",
      "Top medicines for Dimorphic hemorrhoids(piles): ['VERADEX-E']\n",
      "Top medicines for Heart attack: ['Naproxen', 'ENTRESTO']\n",
      "Top medicines for Varicose veins: ['tramadol hydrochloride', 'Zolpidem', 'TRAMADOL HYDROCHLORIDE']\n",
      "Top medicines for Hypothyroidism: ['NP Thyroid 120', 'Levothyroxine sodium', 'CHOLESTYRAMINE LIGHT', 'levothyroxine sodium']\n",
      "Top medicines for Hyperthyroidism: ['Levothyroxine sodium', 'levothyroxine sodium', 'Levothyroxine Sodium']\n",
      "Top medicines for Hypoglycemia: ['Levocarnitine', 'Levocarnitine', 'Zegalogue']\n",
      "Top medicines for Osteoarthritis: ['Naproxen', 'Etodolac']\n",
      "Top medicines for Arthritis: ['Naproxen', 'Pain Reliever Extra Strength']\n",
      "Top medicines for (vertigo) Paroxysmal Positional Vertigo: ['Naproxen', 'Mekinist', 'Methocarbamol']\n",
      "Top medicines for Acne: ['Quick Action', 'CeraVe Developed with Dermatologists Acne Control Cleanser']\n",
      "Top medicines for Urinary tract infection: ['Naproxen', 'Mekinist', 'NP Thyroid 120']\n",
      "Top medicines for Psoriasis: ['anti itch', 'UREA', 'PredniSONE']\n",
      "Top medicines for Impetigo: ['Levofloxacin', 'Mupirocin', 'Levofloxacin']\n"
     ]
    }
   ],
   "source": [
    "import requests\n",
    "\n",
    "def get_top_medicines_for_disease(disease):\n",
    "    base_url = \"https://api.fda.gov/drug/label.json\"\n",
    "    params = {\n",
    "        'search': f'indications_and_usage:{disease}',\n",
    "        'limit': 5  # You can adjust the limit based on your needs\n",
    "    }\n",
    "\n",
    "    response = requests.get(base_url, params=params)\n",
    "\n",
    "    if response.status_code == 200:\n",
    "        data = response.json()\n",
    "        \n",
    "        # Check if 'results' key is present in the response\n",
    "        if 'results' in data:\n",
    "            # Extract medicines only if 'openfda' and 'brand_name' keys are present in the results\n",
    "            medicines = [entry['openfda']['brand_name'][0] for entry in data['results'] if 'openfda' in entry and 'brand_name' in entry['openfda']]\n",
    "            return medicines\n",
    "        else:\n",
    "            print(f\"No results found for {disease}.\")\n",
    "            return None\n",
    "    else:\n",
    "        print(f\"Error: {response.status_code}\")\n",
    "        return None\n",
    "\n",
    "if __name__ == \"__main__\":\n",
    "    \n",
    "    diseases = ['Fungal infection', 'Allergy', 'GERD', 'Chronic cholestasis', 'Drug Reaction',\n",
    "                'Peptic ulcer disease', 'AIDS', 'Diabetes ', 'Gastroenteritis',\n",
    "                'Bronchial Asthma', 'Hypertension ', 'Migraine', 'Cervical spondylosis',\n",
    "                'Paralysis (brain hemorrhage)', 'Jaundice', 'Malaria', 'Chicken pox',\n",
    "                'Dengue', 'Typhoid', 'hepatitis A', 'Hepatitis B', 'Hepatitis C',\n",
    "                'Hepatitis D', 'Hepatitis E', 'Alcoholic hepatitis', 'Tuberculosis',\n",
    "                'Common Cold', 'Pneumonia', 'Dimorphic hemorrhoids(piles)', 'Heart attack',\n",
    "                'Varicose veins', 'Hypothyroidism', 'Hyperthyroidism', 'Hypoglycemia',\n",
    "                'Osteoarthritis', 'Arthritis', '(vertigo) Paroxysmal Positional Vertigo',\n",
    "                'Acne', 'Urinary tract infection', 'Psoriasis', 'Impetigo']\n",
    "\n",
    "    for disease in diseases:\n",
    "        \n",
    "        top_medicines = get_top_medicines_for_disease(disease)\n",
    "        medicine[disease] = top_medicines\n",
    "        if top_medicines:\n",
    "            print(f\"Top medicines for {disease}: {top_medicines}\")\n",
    "        else:\n",
    "            print(f\"Failed to retrieve information for {disease}.\")\n"
   ]
  },
  {
   "cell_type": "code",
   "execution_count": 32,
   "id": "314f3691",
   "metadata": {},
   "outputs": [
    {
     "data": {
      "text/plain": [
       "{'Fungal infection': ['Naproxen', 'Mekinist', 'NP Thyroid 120'],\n",
       " 'Allergy': ['Allergy Eye Relief',\n",
       "  'Brompheniramine Maleate, Pseudoephedrine Hydrochloride and Dextromethorphan Hydrobromide'],\n",
       " 'GERD': ['Famotidine', 'OMEPRAZOLE', 'Esomeprazole Magnesium'],\n",
       " 'Chronic cholestasis': ['Glimepiride', 'NP Thyroid 120', 'ENTRESTO'],\n",
       " 'Drug Reaction': ['Naproxen', 'Moisturizing Antibacterial', 'Quick Action'],\n",
       " 'Peptic ulcer diseae': [],\n",
       " 'AIDS': ['Anticavity Rinse', 'Dronabinol'],\n",
       " 'Diabetes ': ['Glimepiride'],\n",
       " 'Gastroenteritis': ['Trimethobenzamide Hydrochloride'],\n",
       " 'Bronchial Asthma': ['Naproxen', 'Tussin CF Non Drowsy Multi Symptom'],\n",
       " 'Hypertension ': ['Enalapril Maleate'],\n",
       " 'Migraine': ['Divalproex Sodium', 'MAXALT', 'topiramate', 'Sumatriptan'],\n",
       " 'Cervical spondylosis': ['Metronidazole'],\n",
       " 'Paralysis (brain hemorrhage)': ['Naproxen', 'Mekinist', 'Glimepiride'],\n",
       " 'Jaundice': ['Cefazolin', 'PHYTONADIONE PHYTONADIONE'],\n",
       " 'Malaria': ['Hydroxychloroquine Sulfate', 'doxycycline'],\n",
       " 'Chicken pox': ['Fludrocortisone Acetate',\n",
       "  'Low Dose Aspirin Enteric Safety-Coated'],\n",
       " 'Dengue': [],\n",
       " 'Typhoid': ['Ciprofloxacin'],\n",
       " 'hepatitis A': ['SILICEA', 'Naproxen'],\n",
       " 'Hepatitis B': ['Naproxen', 'Mekinist', 'Methocarbamol'],\n",
       " 'Hepatitis C': ['Naproxen', 'Moisturizing Antibacterial', 'Mekinist'],\n",
       " 'Hepatitis D': ['Mekinist', 'Glimepiride', 'Pain Reliever Extra Strength'],\n",
       " 'Hepatitis E': ['Naproxen', 'Mekinist'],\n",
       " 'Alcoholic hepatitis': ['Naproxen', 'Glimepiride', 'NP Thyroid 120'],\n",
       " 'Tuberculosis': [],\n",
       " 'Common Cold': ['ChloraPrep One-Step'],\n",
       " 'Pneumonia': ['Azithromycin'],\n",
       " 'Dimorphic hemmorhoids(piles)': [],\n",
       " 'Heart attack': ['Naproxen', 'ENTRESTO'],\n",
       " 'Varicose veins': ['tramadol hydrochloride',\n",
       "  'Zolpidem',\n",
       "  'TRAMADOL HYDROCHLORIDE'],\n",
       " 'Hypothyroidism': ['NP Thyroid 120',\n",
       "  'Levothyroxine sodium',\n",
       "  'CHOLESTYRAMINE LIGHT',\n",
       "  'levothyroxine sodium'],\n",
       " 'Hyperthyroidism': ['Levothyroxine sodium',\n",
       "  'levothyroxine sodium',\n",
       "  'Levothyroxine Sodium'],\n",
       " 'Hypoglycemia': ['Levocarnitine', 'Levocarnitine', 'Zegalogue'],\n",
       " 'Osteoarthristis': [],\n",
       " 'Arthritis': ['Naproxen', 'Pain Reliever Extra Strength'],\n",
       " '(vertigo) Paroymsal  Positional Vertigo': [],\n",
       " 'Acne': ['Quick Action',\n",
       "  'CeraVe Developed with Dermatologists Acne Control Cleanser'],\n",
       " 'Urinary tract infection': ['Naproxen', 'Mekinist', 'NP Thyroid 120'],\n",
       " 'Psoriasis': ['anti itch', 'UREA', 'PredniSONE'],\n",
       " 'Impetigo': ['Levofloxacin', 'Mupirocin', 'Levofloxacin'],\n",
       " 'Peptic ulcer disease': ['Naproxen', 'Mekinist'],\n",
       " 'Dimorphic hemorrhoids(piles)': ['VERADEX-E'],\n",
       " 'Osteoarthritis': ['Naproxen', 'Etodolac'],\n",
       " '(vertigo) Paroxysmal Positional Vertigo': ['Naproxen',\n",
       "  'Mekinist',\n",
       "  'Methocarbamol']}"
      ]
     },
     "execution_count": 32,
     "metadata": {},
     "output_type": "execute_result"
    }
   ],
   "source": [
    "medicine"
   ]
  },
  {
   "cell_type": "code",
   "execution_count": 40,
   "id": "0122f01b",
   "metadata": {},
   "outputs": [],
   "source": [
    "medicine['Dengue'] = ['Chloramphenicol','Ciprofloxacin']"
   ]
  },
  {
   "cell_type": "code",
   "execution_count": 34,
   "id": "1543bdab",
   "metadata": {},
   "outputs": [],
   "source": [
    "medicine['(vertigo) Paroymsal  Positional Vertigo'] = ['meclizine','Antivert','Bonine']"
   ]
  },
  {
   "cell_type": "code",
   "execution_count": 35,
   "id": "14dd0f36",
   "metadata": {},
   "outputs": [],
   "source": [
    "medicine['Osteoarthristis']=['meloxicam','Celebrex','diclofenac','Mobic']"
   ]
  },
  {
   "cell_type": "code",
   "execution_count": 36,
   "id": "e7f5a2e7",
   "metadata": {},
   "outputs": [],
   "source": [
    "medicine['Dimorphic hemmorhoids(piles)'] = ['hydrocortisone','Anucort-HC','Preparation H Maximum Strength']"
   ]
  },
  {
   "cell_type": "code",
   "execution_count": 37,
   "id": "9df5c30d",
   "metadata": {},
   "outputs": [],
   "source": [
    "medicine['Tuberculosis'] = ['dexamethasone','Dexamethasone Intensol','De-Sone LA']"
   ]
  },
  {
   "cell_type": "code",
   "execution_count": 38,
   "id": "e1b2e10d",
   "metadata": {},
   "outputs": [],
   "source": [
    "medicine['Peptic ulcer diseae'] = ['pantoprazole','Protonix','famotidine']"
   ]
  },
  {
   "cell_type": "code",
   "execution_count": 41,
   "id": "433feab2",
   "metadata": {},
   "outputs": [
    {
     "data": {
      "text/plain": [
       "{'Fungal infection': ['Naproxen', 'Mekinist', 'NP Thyroid 120'],\n",
       " 'Allergy': ['Allergy Eye Relief',\n",
       "  'Brompheniramine Maleate, Pseudoephedrine Hydrochloride and Dextromethorphan Hydrobromide'],\n",
       " 'GERD': ['Famotidine', 'OMEPRAZOLE', 'Esomeprazole Magnesium'],\n",
       " 'Chronic cholestasis': ['Glimepiride', 'NP Thyroid 120', 'ENTRESTO'],\n",
       " 'Drug Reaction': ['Naproxen', 'Moisturizing Antibacterial', 'Quick Action'],\n",
       " 'Peptic ulcer diseae': ['pantoprazole', 'Protonix', 'famotidine'],\n",
       " 'AIDS': ['Anticavity Rinse', 'Dronabinol'],\n",
       " 'Diabetes ': ['Glimepiride'],\n",
       " 'Gastroenteritis': ['Trimethobenzamide Hydrochloride'],\n",
       " 'Bronchial Asthma': ['Naproxen', 'Tussin CF Non Drowsy Multi Symptom'],\n",
       " 'Hypertension ': ['Enalapril Maleate'],\n",
       " 'Migraine': ['Divalproex Sodium', 'MAXALT', 'topiramate', 'Sumatriptan'],\n",
       " 'Cervical spondylosis': ['Metronidazole'],\n",
       " 'Paralysis (brain hemorrhage)': ['Naproxen', 'Mekinist', 'Glimepiride'],\n",
       " 'Jaundice': ['Cefazolin', 'PHYTONADIONE PHYTONADIONE'],\n",
       " 'Malaria': ['Hydroxychloroquine Sulfate', 'doxycycline'],\n",
       " 'Chicken pox': ['Fludrocortisone Acetate',\n",
       "  'Low Dose Aspirin Enteric Safety-Coated'],\n",
       " 'Dengue': ['Chloramphenicol', 'Ciprofloxacin'],\n",
       " 'Typhoid': ['Ciprofloxacin'],\n",
       " 'hepatitis A': ['SILICEA', 'Naproxen'],\n",
       " 'Hepatitis B': ['Naproxen', 'Mekinist', 'Methocarbamol'],\n",
       " 'Hepatitis C': ['Naproxen', 'Moisturizing Antibacterial', 'Mekinist'],\n",
       " 'Hepatitis D': ['Mekinist', 'Glimepiride', 'Pain Reliever Extra Strength'],\n",
       " 'Hepatitis E': ['Naproxen', 'Mekinist'],\n",
       " 'Alcoholic hepatitis': ['Naproxen', 'Glimepiride', 'NP Thyroid 120'],\n",
       " 'Tuberculosis': ['dexamethasone', 'Dexamethasone Intensol', 'De-Sone LA'],\n",
       " 'Common Cold': ['ChloraPrep One-Step'],\n",
       " 'Pneumonia': ['Azithromycin'],\n",
       " 'Dimorphic hemmorhoids(piles)': ['hydrocortisone',\n",
       "  'Anucort-HC',\n",
       "  'Preparation H Maximum Strength'],\n",
       " 'Heart attack': ['Naproxen', 'ENTRESTO'],\n",
       " 'Varicose veins': ['tramadol hydrochloride',\n",
       "  'Zolpidem',\n",
       "  'TRAMADOL HYDROCHLORIDE'],\n",
       " 'Hypothyroidism': ['NP Thyroid 120',\n",
       "  'Levothyroxine sodium',\n",
       "  'CHOLESTYRAMINE LIGHT',\n",
       "  'levothyroxine sodium'],\n",
       " 'Hyperthyroidism': ['Levothyroxine sodium',\n",
       "  'levothyroxine sodium',\n",
       "  'Levothyroxine Sodium'],\n",
       " 'Hypoglycemia': ['Levocarnitine', 'Levocarnitine', 'Zegalogue'],\n",
       " 'Osteoarthristis': ['meloxicam', 'Celebrex', 'diclofenac', 'Mobic'],\n",
       " 'Arthritis': ['Naproxen', 'Pain Reliever Extra Strength'],\n",
       " '(vertigo) Paroymsal  Positional Vertigo': ['meclizine',\n",
       "  'Antivert',\n",
       "  'Bonine'],\n",
       " 'Acne': ['Quick Action',\n",
       "  'CeraVe Developed with Dermatologists Acne Control Cleanser'],\n",
       " 'Urinary tract infection': ['Naproxen', 'Mekinist', 'NP Thyroid 120'],\n",
       " 'Psoriasis': ['anti itch', 'UREA', 'PredniSONE'],\n",
       " 'Impetigo': ['Levofloxacin', 'Mupirocin', 'Levofloxacin'],\n",
       " 'Peptic ulcer disease': ['Naproxen', 'Mekinist'],\n",
       " 'Dimorphic hemorrhoids(piles)': ['VERADEX-E'],\n",
       " 'Osteoarthritis': ['Naproxen', 'Etodolac'],\n",
       " '(vertigo) Paroxysmal Positional Vertigo': ['Naproxen',\n",
       "  'Mekinist',\n",
       "  'Methocarbamol'],\n",
       " 'dengue': ['Chloramphenicol', 'Ciprofloxacin']}"
      ]
     },
     "execution_count": 41,
     "metadata": {},
     "output_type": "execute_result"
    }
   ],
   "source": [
    "medicine"
   ]
  },
  {
   "cell_type": "code",
   "execution_count": 43,
   "id": "0390a263",
   "metadata": {},
   "outputs": [
    {
     "data": {
      "text/plain": [
       "['Chloramphenicol', 'Ciprofloxacin']"
      ]
     },
     "execution_count": 43,
     "metadata": {},
     "output_type": "execute_result"
    }
   ],
   "source": [
    "medicine.pop('dengue')"
   ]
  },
  {
   "cell_type": "code",
   "execution_count": 44,
   "id": "afadda3b",
   "metadata": {},
   "outputs": [
    {
     "data": {
      "text/plain": [
       "{'Fungal infection': ['Naproxen', 'Mekinist', 'NP Thyroid 120'],\n",
       " 'Allergy': ['Allergy Eye Relief',\n",
       "  'Brompheniramine Maleate, Pseudoephedrine Hydrochloride and Dextromethorphan Hydrobromide'],\n",
       " 'GERD': ['Famotidine', 'OMEPRAZOLE', 'Esomeprazole Magnesium'],\n",
       " 'Chronic cholestasis': ['Glimepiride', 'NP Thyroid 120', 'ENTRESTO'],\n",
       " 'Drug Reaction': ['Naproxen', 'Moisturizing Antibacterial', 'Quick Action'],\n",
       " 'Peptic ulcer diseae': ['pantoprazole', 'Protonix', 'famotidine'],\n",
       " 'AIDS': ['Anticavity Rinse', 'Dronabinol'],\n",
       " 'Diabetes ': ['Glimepiride'],\n",
       " 'Gastroenteritis': ['Trimethobenzamide Hydrochloride'],\n",
       " 'Bronchial Asthma': ['Naproxen', 'Tussin CF Non Drowsy Multi Symptom'],\n",
       " 'Hypertension ': ['Enalapril Maleate'],\n",
       " 'Migraine': ['Divalproex Sodium', 'MAXALT', 'topiramate', 'Sumatriptan'],\n",
       " 'Cervical spondylosis': ['Metronidazole'],\n",
       " 'Paralysis (brain hemorrhage)': ['Naproxen', 'Mekinist', 'Glimepiride'],\n",
       " 'Jaundice': ['Cefazolin', 'PHYTONADIONE PHYTONADIONE'],\n",
       " 'Malaria': ['Hydroxychloroquine Sulfate', 'doxycycline'],\n",
       " 'Chicken pox': ['Fludrocortisone Acetate',\n",
       "  'Low Dose Aspirin Enteric Safety-Coated'],\n",
       " 'Dengue': ['Chloramphenicol', 'Ciprofloxacin'],\n",
       " 'Typhoid': ['Ciprofloxacin'],\n",
       " 'hepatitis A': ['SILICEA', 'Naproxen'],\n",
       " 'Hepatitis B': ['Naproxen', 'Mekinist', 'Methocarbamol'],\n",
       " 'Hepatitis C': ['Naproxen', 'Moisturizing Antibacterial', 'Mekinist'],\n",
       " 'Hepatitis D': ['Mekinist', 'Glimepiride', 'Pain Reliever Extra Strength'],\n",
       " 'Hepatitis E': ['Naproxen', 'Mekinist'],\n",
       " 'Alcoholic hepatitis': ['Naproxen', 'Glimepiride', 'NP Thyroid 120'],\n",
       " 'Tuberculosis': ['dexamethasone', 'Dexamethasone Intensol', 'De-Sone LA'],\n",
       " 'Common Cold': ['ChloraPrep One-Step'],\n",
       " 'Pneumonia': ['Azithromycin'],\n",
       " 'Dimorphic hemmorhoids(piles)': ['hydrocortisone',\n",
       "  'Anucort-HC',\n",
       "  'Preparation H Maximum Strength'],\n",
       " 'Heart attack': ['Naproxen', 'ENTRESTO'],\n",
       " 'Varicose veins': ['tramadol hydrochloride',\n",
       "  'Zolpidem',\n",
       "  'TRAMADOL HYDROCHLORIDE'],\n",
       " 'Hypothyroidism': ['NP Thyroid 120',\n",
       "  'Levothyroxine sodium',\n",
       "  'CHOLESTYRAMINE LIGHT',\n",
       "  'levothyroxine sodium'],\n",
       " 'Hyperthyroidism': ['Levothyroxine sodium',\n",
       "  'levothyroxine sodium',\n",
       "  'Levothyroxine Sodium'],\n",
       " 'Hypoglycemia': ['Levocarnitine', 'Levocarnitine', 'Zegalogue'],\n",
       " 'Osteoarthristis': ['meloxicam', 'Celebrex', 'diclofenac', 'Mobic'],\n",
       " 'Arthritis': ['Naproxen', 'Pain Reliever Extra Strength'],\n",
       " '(vertigo) Paroymsal  Positional Vertigo': ['meclizine',\n",
       "  'Antivert',\n",
       "  'Bonine'],\n",
       " 'Acne': ['Quick Action',\n",
       "  'CeraVe Developed with Dermatologists Acne Control Cleanser'],\n",
       " 'Urinary tract infection': ['Naproxen', 'Mekinist', 'NP Thyroid 120'],\n",
       " 'Psoriasis': ['anti itch', 'UREA', 'PredniSONE'],\n",
       " 'Impetigo': ['Levofloxacin', 'Mupirocin', 'Levofloxacin'],\n",
       " 'Peptic ulcer disease': ['Naproxen', 'Mekinist'],\n",
       " 'Dimorphic hemorrhoids(piles)': ['VERADEX-E'],\n",
       " 'Osteoarthritis': ['Naproxen', 'Etodolac'],\n",
       " '(vertigo) Paroxysmal Positional Vertigo': ['Naproxen',\n",
       "  'Mekinist',\n",
       "  'Methocarbamol']}"
      ]
     },
     "execution_count": 44,
     "metadata": {},
     "output_type": "execute_result"
    }
   ],
   "source": [
    "medicine"
   ]
  },
  {
   "cell_type": "code",
   "execution_count": null,
   "id": "a23cb548",
   "metadata": {},
   "outputs": [],
   "source": []
  }
 ],
 "metadata": {
  "kernelspec": {
   "display_name": "Python 3 (ipykernel)",
   "language": "python",
   "name": "python3"
  },
  "language_info": {
   "codemirror_mode": {
    "name": "ipython",
    "version": 3
   },
   "file_extension": ".py",
   "mimetype": "text/x-python",
   "name": "python",
   "nbconvert_exporter": "python",
   "pygments_lexer": "ipython3",
   "version": "3.11.2"
  }
 },
 "nbformat": 4,
 "nbformat_minor": 5
}
